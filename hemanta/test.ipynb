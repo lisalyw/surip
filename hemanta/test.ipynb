{
 "cells": [
  {
   "cell_type": "code",
   "execution_count": 10,
   "metadata": {},
   "outputs": [],
   "source": [
    "import numpy as np\n",
    "import matplotlib.pyplot as plt\n",
    "from scipy.integrate import quad\n",
    "from scipy.interpolate import interp1d\n",
    "\n",
    "# write a normalized pdf for event-rates distribution\n",
    "from astropy.cosmology import LambdaCDM\n",
    "cosmo = LambdaCDM(H0=70, Om0=0.3, Ode0=0.7)"
   ]
  },
  {
   "cell_type": "markdown",
   "metadata": {},
   "source": [
    "## Defining required functions"
   ]
  },
  {
   "cell_type": "code",
   "execution_count": 29,
   "metadata": {},
   "outputs": [],
   "source": [
    "\n",
    "def d_comoving_volume(zs):\n",
    "\t\"\"\"Function to calculate the differential comoving volume element at redshift z.\n",
    "\n",
    "\tParameters\n",
    "\t----------\n",
    "\tzs : float or array_like\n",
    "\t\tRedshift\n",
    "\n",
    "\tReturns\n",
    "\t-------\n",
    "\tfloat or array_like\n",
    "\t\tDifferential comoving volume element at redshift z\n",
    "\n",
    "\t\"\"\"\n",
    "\n",
    "\treturn 4*np.pi*cosmo.differential_comoving_volume(zs).value\n",
    "\t\n",
    "def merger_rate_density(\n",
    "        zs, R0=23.9 * 1e-9, b2=1.6, b3=2.0, b4=30,\n",
    "    ):\n",
    "    \"\"\"Function to compute the merger rate density (PopI/PopII). Reference: Oguri et al. (2018). The output is in detector frame and is unnormalized.\n",
    "\n",
    "    Parameters\n",
    "    ----------\n",
    "    zs : `float` or `numpy.ndarray` (nD array of floats)\n",
    "        Source redshifts\n",
    "    R0 : `float`\n",
    "        local merger rate density at low redshift\n",
    "        default: 23.9*1e-9 Mpc^-3 yr^-1\n",
    "    b2 : `float`\n",
    "        Fitting paramters\n",
    "        default: 1.6\n",
    "    b3 : `float`\n",
    "        Fitting paramters\n",
    "        default: 2.0\n",
    "    b4 : `float`\n",
    "        Fitting paramters\n",
    "        default: 30\n",
    "\n",
    "    Returns\n",
    "    ----------\n",
    "    rate_density : `float` or `numpy.ndarray` (nD array of floats)\n",
    "        merger rate density\n",
    "\n",
    "    Examples\n",
    "    ----------\n",
    "    >>> rate_density = merger_rate_density_bbh_popI_II_oguri2018(zs=0.1)\n",
    "    \"\"\"\n",
    "    \n",
    "    return R0 * (b4 + 1) * np.exp(b2 * zs) / (b4 + np.exp(b3 * zs)) #\n",
    "\n",
    "def pdf_event_rate(zs):\n",
    "\t\"\"\"Function to calculate the probability density function of event rate at redshift z.\n",
    "\n",
    "\tParameters\n",
    "\t----------\n",
    "\tzs : float or array_like\n",
    "\t\tRedshift\n",
    "\n",
    "\tReturns\n",
    "\t-------\n",
    "\tfloat or array_like\n",
    "\t\tProbability density function of event rate at redshift z\n",
    "\n",
    "\t\"\"\"\n",
    "\treturn d_comoving_volume(zs) * merger_rate_density(zs) / (1 + zs)\n",
    "\t"
   ]
  },
  {
   "cell_type": "markdown",
   "metadata": {},
   "source": [
    "## What is the BBH total merger rate regardless of detection?"
   ]
  },
  {
   "cell_type": "code",
   "execution_count": 31,
   "metadata": {},
   "outputs": [
    {
     "data": {
      "text/plain": [
       "103522.89660721329"
      ]
     },
     "execution_count": 31,
     "metadata": {},
     "output_type": "execute_result"
    }
   ],
   "source": [
    "# units: Mpc^-3 yr^-1 \n",
    "quad(pdf_event_rate, 0, z_max)[0]"
   ]
  },
  {
   "cell_type": "markdown",
   "metadata": {},
   "source": [
    "## Constructing sampling function for $z_s$"
   ]
  },
  {
   "cell_type": "markdown",
   "metadata": {},
   "source": [
    "### Rejection sampling"
   ]
  },
  {
   "cell_type": "code",
   "execution_count": 33,
   "metadata": {},
   "outputs": [],
   "source": [
    "z_max = 10\n",
    "normalization = quad(pdf_event_rate, 0, z_max)[0]\n",
    "\n",
    "# Probability density function of event rate at redshift z\n",
    "def pdf_z(zs):\n",
    "\treturn pdf_event_rate(zs) / normalization"
   ]
  },
  {
   "cell_type": "code",
   "execution_count": 35,
   "metadata": {},
   "outputs": [],
   "source": [
    "def rejection_sampling(size, pdf, xmin, xmax):\n",
    "    \"\"\"\n",
    "    Function to generate random samples from a normal distribution using the rejection sampling method\n",
    "\n",
    "    Parameters\n",
    "    ----------\n",
    "    size : int\n",
    "        The number of samples to generate\n",
    "    pdf : function\n",
    "        The probability density function of the normal distribution\n",
    "    xmin : float\n",
    "        The minimum value of the range to sample from\n",
    "    xmax : float\n",
    "        The maximum value of the range to sample from\n",
    "\n",
    "    Returns\n",
    "    -------\n",
    "    array-like\n",
    "        The generated samples\n",
    "    \"\"\"\n",
    "\n",
    "    x = np.linspace(xmin, xmax, 1000)\n",
    "    y = pdf(x)\n",
    "    ymax = np.max(y) # Maximum value of the pdf\n",
    "    x_samples = []\n",
    "    while len(x_samples) < size:\n",
    "        x_try = np.random.uniform(xmin, xmax, size=size)\n",
    "        pdf_y_try = pdf(x_try)\n",
    "        # this is for comparing with the pdf value at x_try, will be used to accept or reject the sample\n",
    "        y_try = np.random.uniform(0, ymax, size=size) \n",
    "    \n",
    "        # Update the maximum value of the pdf\n",
    "        ymax = max(ymax, np.max(pdf_y_try))  \n",
    "        \n",
    "        # applying condition to accept the sample\n",
    "        accepted = list(x_try[y_try < pdf_y_try]) \n",
    "        # add to the list\n",
    "        x_samples += accepted\n",
    "\n",
    "    return np.array(x_samples[:size]) # this also trims to the correct size"
   ]
  },
  {
   "cell_type": "code",
   "execution_count": 38,
   "metadata": {},
   "outputs": [],
   "source": [
    "new_zs = rejection_sampling(size=10000, pdf=pdf_z, xmin=0, xmax=z_max)"
   ]
  },
  {
   "cell_type": "code",
   "execution_count": 45,
   "metadata": {},
   "outputs": [
    {
     "data": {
      "image/png": "[encoded data removed]",
      "text/plain": [
       "<Figure size 400x400 with 1 Axes>"
      ]
     },
     "metadata": {},
     "output_type": "display_data"
    }
   ],
   "source": [
    "plt.figure(figsize=(4, 4))\n",
    "x = np.linspace(0, z_max, 1000)\n",
    "plt.hist(new_zs, bins=100, density=True, alpha=0.5, label='Rejection Sampling')\n",
    "plt.plot(x, pdf_z(x), label='PDF')\n",
    "plt.xlabel('z')\n",
    "plt.ylabel('PDF')\n",
    "plt.legend()\n",
    "plt.grid(alpha=0.4)\n",
    "plt.show()"
   ]
  },
  {
   "cell_type": "code",
   "execution_count": null,
   "metadata": {},
   "outputs": [],
   "source": []
  },
  {
   "cell_type": "code",
   "execution_count": null,
   "metadata": {},
   "outputs": [],
   "source": []
  },
  {
   "cell_type": "code",
   "execution_count": null,
   "metadata": {},
   "outputs": [],
   "source": []
  },
  {
   "cell_type": "code",
   "execution_count": null,
   "metadata": {},
   "outputs": [],
   "source": []
  },
  {
   "cell_type": "code",
   "execution_count": null,
   "metadata": {},
   "outputs": [],
   "source": []
  },
  {
   "cell_type": "code",
   "execution_count": 37,
   "metadata": {},
   "outputs": [],
   "source": [
    "# Cumulative distribution function of event rate at redshift z\n",
    "def cdf_z(zs):\n",
    "\n",
    "\tif type(zs) == np.ndarray:\n",
    "\n",
    "\t\tcdf = np.zeros(len(zs))\n",
    "\t\tfor i, z in enumerate(zs):\n",
    "\t\t\tcdf[i] = quad(pdf_z, 0, z)[0]\n",
    "\telif type(zs) == float:\n",
    "\t\tcdf = quad(pdf_z, 0, zs)[0]\n",
    "\telse:\n",
    "\t\traise ValueError(\"zs should be either a float or a numpy array\")\n",
    "\n",
    "\treturn cdf"
   ]
  },
  {
   "cell_type": "code",
   "execution_count": null,
   "metadata": {},
   "outputs": [],
   "source": []
  },
  {
   "cell_type": "code",
   "execution_count": null,
   "metadata": {},
   "outputs": [],
   "source": []
  }
 ],
 "metadata": {
  "kernelspec": {
   "display_name": "ler",
   "language": "python",
   "name": "ler"
  },
  "language_info": {
   "codemirror_mode": {
    "name": "ipython",
    "version": 3
   },
   "file_extension": ".py",
   "mimetype": "text/x-python",
   "name": "python",
   "nbconvert_exporter": "python",
   "pygments_lexer": "ipython3",
   "version": "3.10.14"
  }
 },
 "nbformat": 4,
 "nbformat_minor": 2
}
