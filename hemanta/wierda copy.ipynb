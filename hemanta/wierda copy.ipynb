{
 "cells": [
  {
   "cell_type": "markdown",
   "metadata": {},
   "source": [
    "## Comparison with different mass distributions"
   ]
  },
  {
   "cell_type": "code",
   "execution_count": 26,
   "metadata": {},
   "outputs": [],
   "source": [
    "from ler.rates import LeR\n",
    "from ler.utils import get_param_from_json\n",
    "import numpy as np\n",
    "import matplotlib.pyplot as plt"
   ]
  },
  {
   "cell_type": "code",
   "execution_count": 33,
   "metadata": {},
   "outputs": [
    {
     "name": "stderr",
     "output_type": "stream",
     "text": [
      "/Users/phurailatpamhemantakumar/anaconda3/envs/ler/lib/python3.10/site-packages/gwcosmo/prior/custom_math_priors.py:48: RuntimeWarning: overflow encountered in exp\n",
      "  effe_prime[select_window] = _np.exp(_np.nan_to_num((delta_m/mprime[select_window])+(delta_m/(mprime[select_window]-delta_m))))\n",
      "/Users/phurailatpamhemantakumar/anaconda3/envs/ler/lib/python3.10/site-packages/gwcosmo/prior/custom_math_priors.py:162: RuntimeWarning: divide by zero encountered in log\n",
      "  prob_ret =self.origin_prob.log_prob(x)+_np.log(window)\n",
      "/Users/phurailatpamhemantakumar/anaconda3/envs/ler/lib/python3.10/site-packages/gwcosmo/prior/custom_math_priors.py:160: RuntimeWarning: divide by zero encountered in log\n",
      "  prob_ret =self.origin_prob.log_prob(x)+_np.log(window)-_np.log(self.norm)\n"
     ]
    }
   ],
   "source": [
    "# initialize LeR\n",
    "ler1 = LeR(\n",
    "    npool=8,\n",
    "    verbose=False,\n",
    "    # GW related\n",
    "    source_priors= {\n",
    "        'source_frame_masses': 'binary_masses_BBH_popI_II_powerlaw_gaussian', \n",
    "        },      \n",
    "    source_priors_params= {\n",
    "        'source_frame_masses': {'mminbh': 4.59, 'mmaxbh': 86.22, 'alpha': 2.63, 'mu_g': 33.07, 'sigma_g': 5.69, 'lambda_peak': 0.10, 'delta_m': 4.82, 'beta': 1.26}, \n",
    "        },\n",
    ")"
   ]
  },
  {
   "cell_type": "code",
   "execution_count": 34,
   "metadata": {},
   "outputs": [
    {
     "name": "stderr",
     "output_type": "stream",
     "text": [
      "/Users/phurailatpamhemantakumar/anaconda3/envs/ler/lib/python3.10/site-packages/gwcosmo/prior/custom_math_priors.py:48: RuntimeWarning: overflow encountered in exp\n",
      "  effe_prime[select_window] = _np.exp(_np.nan_to_num((delta_m/mprime[select_window])+(delta_m/(mprime[select_window]-delta_m))))\n",
      "/Users/phurailatpamhemantakumar/anaconda3/envs/ler/lib/python3.10/site-packages/gwcosmo/prior/custom_math_priors.py:162: RuntimeWarning: divide by zero encountered in log\n",
      "  prob_ret =self.origin_prob.log_prob(x)+_np.log(window)\n",
      "/Users/phurailatpamhemantakumar/anaconda3/envs/ler/lib/python3.10/site-packages/gwcosmo/prior/custom_math_priors.py:160: RuntimeWarning: divide by zero encountered in log\n",
      "  prob_ret =self.origin_prob.log_prob(x)+_np.log(window)-_np.log(self.norm)\n"
     ]
    }
   ],
   "source": [
    "ler2 = LeR(\n",
    "    npool=8,\n",
    "    verbose=False,\n",
    ")"
   ]
  },
  {
   "cell_type": "code",
   "execution_count": 6,
   "metadata": {},
   "outputs": [],
   "source": [
    "m1_w, m2_w = ler1.sample_source_frame_masses(size=10000)\n",
    "m1_l, m2_l = ler2.sample_source_frame_masses(size=10000)"
   ]
  },
  {
   "cell_type": "code",
   "execution_count": 15,
   "metadata": {},
   "outputs": [
    {
     "data": {
      "image/png": "[encoded data removed]",
      "text/plain": [
       "<Figure size 400x400 with 1 Axes>"
      ]
     },
     "metadata": {},
     "output_type": "display_data"
    }
   ],
   "source": [
    "# plot\n",
    "plt.figure(figsize=(4, 4))\n",
    "plt.hist(m1_w, bins=100, alpha=0.5, label='GWTC-2', color='b', density=True, histtype='step')\n",
    "plt.hist(m1_l, bins=100, alpha=0.5, label='GWTC-3', color='r', density=True, histtype='step')\n",
    "plt.xlabel(r'$m_1$')\n",
    "plt.ylabel('pdf')\n",
    "plt.legend()\n",
    "plt.xlim(5, 60)\n",
    "plt.grid(alpha=0.4)\n",
    "plt.show()"
   ]
  },
  {
   "cell_type": "code",
   "execution_count": 38,
   "metadata": {},
   "outputs": [
    {
     "name": "stdout",
     "output_type": "stream",
     "text": [
      "unlensed params will be store in ./ler_data/unlensed_cbc_bbh_w.json\n",
      "chosen batch size = 200000 with total size = 400000\n",
      "There will be 2 batche(s)\n",
      "Batch no. 1\n",
      "sampling gw source params...\n",
      "calculating snrs...\n",
      "Batch no. 2\n",
      "sampling gw source params...\n",
      "calculating snrs...\n",
      "saving all unlensed_params in ./ler_data/unlensed_cbc_bbh_w.json \n"
     ]
    }
   ],
   "source": [
    "ler1.batch_size = 200000\n",
    "ler1.unlensed_cbc_statistics(size=400000, resume=False, save_batch=False, output_jsonfile='unlensed_cbc_bbh_w.json');"
   ]
  },
  {
   "cell_type": "code",
   "execution_count": 39,
   "metadata": {},
   "outputs": [
    {
     "name": "stdout",
     "output_type": "stream",
     "text": [
      "lensed params will be store in ./ler_data/lensed_cbc_bbh_w.json\n",
      "chosen batch size = 200000 with total size = 400000\n",
      "There will be 2 batche(s)\n",
      "Batch no. 1\n",
      "sampling lensed params...\n",
      "solving lens equations...\n"
     ]
    },
    {
     "name": "stderr",
     "output_type": "stream",
     "text": [
      "100%|█████████████████████████████████████████████████████| 200000/200000 [00:52<00:00, 3803.32it/s]\n"
     ]
    },
    {
     "name": "stdout",
     "output_type": "stream",
     "text": [
      "Invalid sample found. Resampling 4 lensed events...\n",
      "solving lens equations...\n"
     ]
    },
    {
     "name": "stderr",
     "output_type": "stream",
     "text": [
      "100%|█████████████████████████████████████████████████████████████████| 4/4 [00:03<00:00,  1.06it/s]\n"
     ]
    },
    {
     "name": "stdout",
     "output_type": "stream",
     "text": [
      "calculating snrs...\n",
      "Batch no. 2\n",
      "sampling lensed params...\n",
      "solving lens equations...\n"
     ]
    },
    {
     "name": "stderr",
     "output_type": "stream",
     "text": [
      "100%|█████████████████████████████████████████████████████| 200000/200000 [00:53<00:00, 3752.01it/s]\n"
     ]
    },
    {
     "name": "stdout",
     "output_type": "stream",
     "text": [
      "Invalid sample found. Resampling 4 lensed events...\n",
      "solving lens equations...\n"
     ]
    },
    {
     "name": "stderr",
     "output_type": "stream",
     "text": [
      "100%|█████████████████████████████████████████████████████████████████| 4/4 [00:03<00:00,  1.12it/s]\n"
     ]
    },
    {
     "name": "stdout",
     "output_type": "stream",
     "text": [
      "calculating snrs...\n",
      "saving all lensed_params in ./ler_data/lensed_cbc_bbh_w.json \n"
     ]
    }
   ],
   "source": [
    "ler1.lensed_cbc_statistics(size=400000, resume=False, save_batch=False, output_jsonfile='lensed_cbc_bbh_w.json');"
   ]
  },
  {
   "cell_type": "code",
   "execution_count": 40,
   "metadata": {},
   "outputs": [
    {
     "name": "stdout",
     "output_type": "stream",
     "text": [
      "getting unlensed_params from json file ./ler_data/unlensed_cbc_bbh_w.json...\n",
      "given detectability_condition == 'step_function'\n",
      "total unlensed rate (yr^-1) (with step function): 847.5937159534756\n",
      "number of simulated unlensed detectable events: 3275\n",
      "number of all simulated unlensed events: 400000\n",
      "storing detectable unlensed params in ./ler_data/unlensed_param_detectable.json\n",
      "getting lensed_params from json file ./ler_data/lensed_cbc_bbh_w.json \n",
      "given detectability_condition == 'step_function'\n",
      "total lensed rate (yr^-1) (with step function): 1.4480152910338109\n",
      "number of simulated lensed detectable events: 2552\n",
      "number of simulated all lensed events: 400000\n",
      "storing detectable lensed params in ./ler_data/lensed_param_detectable.json\n",
      "unlensed_rate (per year): 847.5937159534756\n",
      "lensed_rate (per year): 1.4480152910338109\n",
      "ratio: 585.3485948676245\n"
     ]
    }
   ],
   "source": [
    "ler1.rate_comparision_with_rate_calculation();"
   ]
  },
  {
   "cell_type": "code",
   "execution_count": 41,
   "metadata": {},
   "outputs": [
    {
     "name": "stdout",
     "output_type": "stream",
     "text": [
      "unlensed params will be store in ./ler_data/unlensed_cbc_bbh_l.json\n",
      "chosen batch size = 200000 with total size = 400000\n",
      "There will be 2 batche(s)\n",
      "Batch no. 1\n",
      "sampling gw source params...\n",
      "calculating snrs...\n",
      "Batch no. 2\n",
      "sampling gw source params...\n",
      "calculating snrs...\n",
      "saving all unlensed_params in ./ler_data/unlensed_cbc_bbh_l.json \n"
     ]
    }
   ],
   "source": [
    "ler2.batch_size = 200000\n",
    "ler2.unlensed_cbc_statistics(size=400000, resume=False, save_batch=False, output_jsonfile='unlensed_cbc_bbh_l.json');"
   ]
  },
  {
   "cell_type": "code",
   "execution_count": 42,
   "metadata": {},
   "outputs": [
    {
     "name": "stdout",
     "output_type": "stream",
     "text": [
      "lensed params will be store in ./ler_data/lensed_cbc_bbh_l.json\n",
      "chosen batch size = 200000 with total size = 400000\n",
      "There will be 2 batche(s)\n",
      "Batch no. 1\n",
      "sampling lensed params...\n",
      "solving lens equations...\n"
     ]
    },
    {
     "name": "stderr",
     "output_type": "stream",
     "text": [
      "100%|█████████████████████████████████████████████████████| 200000/200000 [00:51<00:00, 3852.12it/s]\n"
     ]
    },
    {
     "name": "stdout",
     "output_type": "stream",
     "text": [
      "Invalid sample found. Resampling 3 lensed events...\n",
      "solving lens equations...\n"
     ]
    },
    {
     "name": "stderr",
     "output_type": "stream",
     "text": [
      "100%|█████████████████████████████████████████████████████████████████| 3/3 [00:03<00:00,  1.14s/it]\n"
     ]
    },
    {
     "name": "stdout",
     "output_type": "stream",
     "text": [
      "calculating snrs...\n",
      "Batch no. 2\n",
      "sampling lensed params...\n",
      "solving lens equations...\n"
     ]
    },
    {
     "name": "stderr",
     "output_type": "stream",
     "text": [
      "100%|█████████████████████████████████████████████████████| 200000/200000 [00:49<00:00, 4020.18it/s]\n"
     ]
    },
    {
     "name": "stdout",
     "output_type": "stream",
     "text": [
      "Invalid sample found. Resampling 2 lensed events...\n",
      "solving lens equations...\n"
     ]
    },
    {
     "name": "stderr",
     "output_type": "stream",
     "text": [
      "100%|█████████████████████████████████████████████████████████████████| 2/2 [00:03<00:00,  1.66s/it]\n"
     ]
    },
    {
     "name": "stdout",
     "output_type": "stream",
     "text": [
      "calculating snrs...\n",
      "saving all lensed_params in ./ler_data/lensed_cbc_bbh_l.json \n"
     ]
    }
   ],
   "source": [
    "ler2.lensed_cbc_statistics(size=400000, resume=False, save_batch=False, output_jsonfile='lensed_cbc_bbh_l.json');"
   ]
  },
  {
   "cell_type": "code",
   "execution_count": 44,
   "metadata": {},
   "outputs": [
    {
     "name": "stdout",
     "output_type": "stream",
     "text": [
      "getting unlensed_params from json file ./ler_data/unlensed_cbc_bbh_l.json...\n",
      "given detectability_condition == 'step_function'\n",
      "total unlensed rate (yr^-1) (with step function): 441.2663467788323\n",
      "number of simulated unlensed detectable events: 1705\n",
      "number of all simulated unlensed events: 400000\n",
      "storing detectable unlensed params in ./ler_data/unlensed_param_detectable.json\n",
      "getting lensed_params from json file ./ler_data/lensed_cbc_bbh_l.json \n",
      "given detectability_condition == 'step_function'\n",
      "total lensed rate (yr^-1) (with step function): 1.0916855093844249\n",
      "number of simulated lensed detectable events: 1924\n",
      "number of simulated all lensed events: 400000\n",
      "storing detectable lensed params in ./ler_data/lensed_param_detectable.json\n",
      "unlensed_rate (per year): 441.2663467788323\n",
      "lensed_rate (per year): 1.0916855093844249\n",
      "ratio: 404.2064706232583\n"
     ]
    }
   ],
   "source": [
    "ler2.rate_comparision_with_rate_calculation();"
   ]
  },
  {
   "cell_type": "code",
   "execution_count": null,
   "metadata": {},
   "outputs": [],
   "source": []
  }
 ],
 "metadata": {
  "kernelspec": {
   "display_name": "ler",
   "language": "python",
   "name": "ler"
  },
  "language_info": {
   "codemirror_mode": {
    "name": "ipython",
    "version": 3
   },
   "file_extension": ".py",
   "mimetype": "text/x-python",
   "name": "python",
   "nbconvert_exporter": "python",
   "pygments_lexer": "ipython3",
   "version": "3.10.14"
  }
 },
 "nbformat": 4,
 "nbformat_minor": 2
}
