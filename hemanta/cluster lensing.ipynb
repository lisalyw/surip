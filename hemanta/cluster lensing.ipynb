{
 "cells": [
  {
   "cell_type": "markdown",
   "metadata": {},
   "source": [
    "Steps\n",
    "\n",
    "Sampling of Lens properties\n",
    "\n",
    "1. Sampling of zs\n",
    "2. Sampling of zl, M200 by taking account zs\n",
    "3. Calculation of cross-section\n",
    "4. rejection sampling wrt to cross-section\n",
    "5. repeat 1-4 for until the number of samples is reached\n",
    "\n",
    "Image properties\n",
    "\n",
    "1. Sampling of source position from the caustic\n",
    "2. With lenstronomy\n",
    "   1. Calculation of image position\n",
    "   2. Calculation of image magnification\n",
    "   3. Calculation of time-delays\n",
    "\n",
    "SNR calculation."
   ]
  },
  {
   "cell_type": "code",
   "execution_count": null,
   "metadata": {},
   "outputs": [],
   "source": []
  },
  {
   "cell_type": "code",
   "execution_count": null,
   "metadata": {},
   "outputs": [],
   "source": []
  }
 ],
 "metadata": {
  "kernelspec": {
   "display_name": "ler",
   "language": "python",
   "name": "ler"
  },
  "language_info": {
   "codemirror_mode": {
    "name": "ipython",
    "version": 3
   },
   "file_extension": ".py",
   "mimetype": "text/x-python",
   "name": "python",
   "nbconvert_exporter": "python",
   "pygments_lexer": "ipython3",
   "version": "3.10.14"
  }
 },
 "nbformat": 4,
 "nbformat_minor": 2
}
