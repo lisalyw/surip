{
 "cells": [
  {
   "cell_type": "markdown",
   "metadata": {},
   "source": [
    "# Comparison of ler result with Wierda et al. 2021"
   ]
  },
  {
   "cell_type": "code",
   "execution_count": 1,
   "metadata": {},
   "outputs": [],
   "source": [
    "import numpy as np\n",
    "import matplotlib.pyplot as plt\n",
    "from ler.utils import get_param_from_json\n",
    "# from scipy.stats import gaussian_kde\n",
    "\n",
    "from ler.rates import LeR"
   ]
  },
  {
   "cell_type": "markdown",
   "metadata": {},
   "source": [
    "# With model settings given in Wierda et al. 2021\n",
    "\n",
    "* Merger rate density model\n",
    "  * change R0 only \n",
    "\n",
    "* GW source mass distribution model for BBH"
   ]
  },
  {
   "cell_type": "code",
   "execution_count": 10,
   "metadata": {},
   "outputs": [],
   "source": [
    "# initialize LeR\n",
    "ler = LeR(\n",
    "    npool=6,\n",
    "    verbose=False,\n",
    "    # SNR related\n",
    "    sampling_frequency =  2048,\n",
    "    waveform_approximant =  'IMRPhenomD',\n",
    "    minimum_frequency =  20.0,\n",
    "    snr_type =  'interpolation',\n",
    "    ifos =  ['L1', 'H1', 'V1'],\n",
    "    # GW related\n",
    "    source_priors= {\n",
    "        'merger_rate_density': 'merger_rate_density_bbh_popI_II_oguri2018', \n",
    "        'source_frame_masses': 'binary_masses_BBH_popI_II_powerlaw_gaussian', \n",
    "        'zs': 'sample_source_redshift', \n",
    "        'geocent_time': 'sampler_uniform', \n",
    "        'ra': 'sampler_uniform', \n",
    "        'dec': 'sampler_cosine', \n",
    "        'phase': 'sampler_uniform', \n",
    "        'psi': 'sampler_uniform', \n",
    "        'theta_jn': 'sampler_sine'\n",
    "        },      \n",
    "    source_priors_params= {\n",
    "        # 'merger_rate_density': {'R0': 2.39e-08, 'b2': 1.6, 'b3': 2.1, 'b4': 30.}, \n",
    "        'source_frame_masses': {'mminbh': 4.59, 'mmaxbh': 86.22, 'alpha': 2.63, 'mu_g': 33.07, 'sigma_g': 5.69, 'lambda_peak': 0.10, 'delta_m': 4.82, 'beta': 1.26}, \n",
    "        'zs': None, \n",
    "        'geocent_time': {'min_': 1238166018, 'max_': 1269702018}, \n",
    "        'ra': {'min_': 0.0, 'max_': 6.283185307179586}, \n",
    "        'dec': None, \n",
    "        'phase': {'min_': 0.0, 'max_': 6.283185307179586}, \n",
    "        'psi': {'min_': 0.0, 'max_': 3.141592653589793}, \n",
    "        'theta_jn': None\n",
    "        },\n",
    "    spin_zero= True,\n",
    "    spin_precession= False,\n",
    "    # lens related\n",
    "    lens_type =  'epl_galaxy',\n",
    "    lens_functions =  {\n",
    "        'strong_lensing_condition': 'rjs_with_cross_section_SIS', \n",
    "        'optical_depth': 'optical_depth_SIS_haris', \n",
    "        'param_sampler_type': 'sample_all_routine',\n",
    "        },\n",
    "    lens_priors =  {\n",
    "        'source_redshift_sl': 'strongly_lensed_source_redshifts', \n",
    "        'lens_redshift': 'lens_redshift_SDSS_catalogue', \n",
    "        'velocity_dispersion': 'velocity_dispersion_gengamma', \n",
    "        'axis_ratio': 'axis_ratio_rayleigh', \n",
    "        'axis_rotation_angle': 'axis_rotation_angle_uniform', \n",
    "        'shear': 'shear_norm', \n",
    "        'mass_density_spectral_index': 'mass_density_spectral_index_normal', \n",
    "        'source_parameters': 'sample_gw_parameters',\n",
    "        },\n",
    "    lens_priors_params =  {\n",
    "        'source_redshift_sl': None, \n",
    "        'lens_redshift': None, \n",
    "        'velocity_dispersion': {'a':2.32 / 2.67, 'c':2.67}, \n",
    "        'axis_ratio': {'q_min': 0.2, 'q_max': 1.0}, \n",
    "        'axis_rotation_angle': {'phi_min': 0.0, 'phi_max': 2*np.pi}, \n",
    "        'shear': {'scale': 0.05}, \n",
    "        'mass_density_spectral_index': {'mean': 2.0, 'std': 0.2}, 'source_parameters': None\n",
    "    },\n",
    "    # image related\n",
    "    n_min_images =  2,\n",
    "    n_max_images =  4,\n",
    "    lens_model_list =  ['EPL_NUMBA', 'SHEAR'],\n",
    ")"
   ]
  },
  {
   "cell_type": "code",
   "execution_count": 12,
   "metadata": {},
   "outputs": [
    {
     "name": "stdout",
     "output_type": "stream",
     "text": [
      "collected number of detectable events =  0\n",
      "collected number of detectable events =  1692\n",
      "total number of events =  200000\n",
      "total unlensed rate (yr^-1): 875.8037049993032\n",
      "collected number of detectable events =  3306\n",
      "total number of events =  400000\n",
      "total unlensed rate (yr^-1): 855.616740167759\n",
      "collected number of detectable events =  4851\n",
      "total number of events =  600000\n",
      "total unlensed rate (yr^-1): 836.982618784795\n",
      "collected number of detectable events =  6516\n",
      "total number of events =  800000\n",
      "total unlensed rate (yr^-1): 843.1939925791164\n",
      "collected number of detectable events =  8104\n",
      "total number of events =  1000000\n",
      "total unlensed rate (yr^-1): 838.9495538196634\n",
      "collected number of detectable events =  9685\n",
      "total number of events =  1200000\n",
      "total unlensed rate (yr^-1): 835.5160444166913\n",
      "collected number of detectable events =  11375\n",
      "total number of events =  1400000\n",
      "total unlensed rate (yr^-1): 841.1235346476759\n",
      "storing detectable unlensed params in ./ler_data/n_unlensed_param_detectable_wierda.json\n",
      "storing meta data in ./ler_data/meta_unlensed_wierda.json\n"
     ]
    }
   ],
   "source": [
    "unlensed_param_detectable = ler.selecting_n_unlensed_detectable_events(\n",
    "    size=10000,\n",
    "    batch_size=200000,\n",
    "    snr_threshold=8.0,\n",
    "    resume=False,\n",
    "    output_jsonfile='n_unlensed_param_detectable_wierda.json',\n",
    "    meta_data_file='meta_unlensed_wierda.json',\n",
    "    trim_to_size=False,\n",
    ")"
   ]
  },
  {
   "cell_type": "markdown",
   "metadata": {},
   "source": [
    "## With LeR default settings"
   ]
  },
  {
   "cell_type": "code",
   "execution_count": 8,
   "metadata": {},
   "outputs": [],
   "source": [
    "ler = LeR(npool=6, verbose=False)"
   ]
  },
  {
   "cell_type": "code",
   "execution_count": 9,
   "metadata": {},
   "outputs": [
    {
     "name": "stdout",
     "output_type": "stream",
     "text": [
      "collected number of detectable events =  0\n",
      "collected number of detectable events =  844\n",
      "total number of events =  200000\n",
      "total unlensed rate (yr^-1): 436.8666235339314\n",
      "collected number of detectable events =  1649\n",
      "total number of events =  400000\n",
      "total unlensed rate (yr^-1): 426.77314111815923\n",
      "collected number of detectable events =  2478\n",
      "total number of events =  600000\n",
      "total unlensed rate (yr^-1): 427.5495628424494\n",
      "collected number of detectable events =  3345\n",
      "total number of events =  800000\n",
      "total unlensed rate (yr^-1): 432.85511129176547\n",
      "collected number of detectable events =  4163\n",
      "total number of events =  1000000\n",
      "total unlensed rate (yr^-1): 430.96581842932613\n",
      "collected number of detectable events =  5099\n",
      "total number of events =  1200000\n",
      "total unlensed rate (yr^-1): 439.8860413506153\n",
      "collected number of detectable events =  5920\n",
      "total number of events =  1400000\n",
      "total unlensed rate (yr^-1): 437.75396264740584\n",
      "collected number of detectable events =  6754\n",
      "total number of events =  1600000\n",
      "total unlensed rate (yr^-1): 436.99602715464636\n",
      "collected number of detectable events =  7581\n",
      "total number of events =  1800000\n",
      "total unlensed rate (yr^-1): 436.0039327291645\n",
      "collected number of detectable events =  8415\n",
      "total number of events =  2000000\n",
      "total unlensed rate (yr^-1): 435.5725873267811\n",
      "collected number of detectable events =  9288\n",
      "total number of events =  2200000\n",
      "total unlensed rate (yr^-1): 437.05484698224416\n",
      "collected number of detectable events =  10096\n",
      "total number of events =  2400000\n",
      "total unlensed rate (yr^-1): 435.4863182463044\n",
      "storing detectable unlensed params in ./ler_data/n_unlensed_param_detectable_ler.json\n",
      "storing meta data in ./ler_data/meta_unlensed_ler.json\n"
     ]
    }
   ],
   "source": [
    "unlensed_param_detectable = ler.selecting_n_unlensed_detectable_events(\n",
    "    size=10000,\n",
    "    batch_size=200000,\n",
    "    snr_threshold=8.0,\n",
    "    resume=True,\n",
    "    output_jsonfile='n_unlensed_param_detectable_ler.json',\n",
    "    meta_data_file='meta_unlensed_ler.json',\n",
    "    trim_to_size=False,\n",
    ")"
   ]
  },
  {
   "cell_type": "code",
   "execution_count": 6,
   "metadata": {},
   "outputs": [
    {
     "name": "stdout",
     "output_type": "stream",
     "text": [
      "unlensed params will be store in ./ler_data/unlensed_cbc_bbh.json\n",
      "chosen batch size = 200000 with total size = 1000000\n",
      "There will be 5 batche(s)\n",
      "resuming from ./ler_data/unlensed_cbc_bbh.json\n",
      "Batch no. 1\n",
      "sampling gw source params...\n",
      "calculating snrs...\n",
      "Batch no. 2\n",
      "sampling gw source params...\n",
      "calculating snrs...\n",
      "Batch no. 3\n",
      "sampling gw source params...\n",
      "calculating snrs...\n",
      "Batch no. 4\n",
      "sampling gw source params...\n",
      "calculating snrs...\n",
      "Batch no. 5\n",
      "sampling gw source params...\n",
      "calculating snrs...\n",
      "saving all unlensed_params in ./ler_data/unlensed_cbc_bbh.json \n"
     ]
    }
   ],
   "source": [
    "# ler.batch_size = 100000 # for faster computation\n",
    "ler.batch_size = 200000 # for faster computation\n",
    "unlensed_param = ler.unlensed_cbc_statistics(size=1000000, resume=True, save_batch=False, output_jsonfile='unlensed_cbc_bbh.json')"
   ]
  },
  {
   "cell_type": "code",
   "execution_count": 7,
   "metadata": {},
   "outputs": [
    {
     "name": "stdout",
     "output_type": "stream",
     "text": [
      "getting unlensed_params from json file ./ler_data/unlensed_cbc_bbh.json...\n",
      "given detectability_condition == 'step_function'\n",
      "total unlensed rate (yr^-1) (with step function): 836.0823259241994\n",
      "number of simulated unlensed detectable events: 10168\n",
      "number of all simulated unlensed events: 1000000\n",
      "storing detectable unlensed params in ./ler_data/unlensed_param_detectable.json\n"
     ]
    }
   ],
   "source": [
    "_, unlensed_param_detectable = ler.unlensed_rate();"
   ]
  },
  {
   "cell_type": "code",
   "execution_count": 12,
   "metadata": {},
   "outputs": [
    {
     "name": "stdout",
     "output_type": "stream",
     "text": [
      "lensed params will be store in ./ler_data/lensed_cbc_bbh.json\n",
      "chosen batch size = 200000 with total size = 1000000\n",
      "There will be 5 batche(s)\n",
      "resuming from ./ler_data/lensed_cbc_bbh.json\n",
      "Batch no. 3\n",
      "sampling lensed params...\n",
      "solving lens equations...\n"
     ]
    },
    {
     "name": "stderr",
     "output_type": "stream",
     "text": [
      "100%|█████████████████████████████████████████████████████| 200000/200000 [00:49<00:00, 4024.34it/s]\n"
     ]
    },
    {
     "name": "stdout",
     "output_type": "stream",
     "text": [
      "Invalid sample found. Resampling 4 lensed events...\n",
      "solving lens equations...\n"
     ]
    },
    {
     "name": "stderr",
     "output_type": "stream",
     "text": [
      "100%|█████████████████████████████████████████████████████████████████| 4/4 [00:03<00:00,  1.08it/s]\n"
     ]
    },
    {
     "name": "stdout",
     "output_type": "stream",
     "text": [
      "calculating snrs...\n",
      "Batch no. 4\n",
      "sampling lensed params...\n",
      "solving lens equations...\n"
     ]
    },
    {
     "name": "stderr",
     "output_type": "stream",
     "text": [
      "100%|█████████████████████████████████████████████████████| 200000/200000 [00:49<00:00, 4031.58it/s]\n"
     ]
    },
    {
     "name": "stdout",
     "output_type": "stream",
     "text": [
      "Invalid sample found. Resampling 10 lensed events...\n",
      "solving lens equations...\n"
     ]
    },
    {
     "name": "stderr",
     "output_type": "stream",
     "text": [
      "100%|███████████████████████████████████████████████████████████████| 10/10 [00:03<00:00,  2.79it/s]\n"
     ]
    },
    {
     "name": "stdout",
     "output_type": "stream",
     "text": [
      "calculating snrs...\n",
      "Batch no. 5\n",
      "sampling lensed params...\n",
      "solving lens equations...\n"
     ]
    },
    {
     "name": "stderr",
     "output_type": "stream",
     "text": [
      "100%|█████████████████████████████████████████████████████| 200000/200000 [00:49<00:00, 4004.54it/s]\n"
     ]
    },
    {
     "name": "stdout",
     "output_type": "stream",
     "text": [
      "Invalid sample found. Resampling 6 lensed events...\n",
      "solving lens equations...\n"
     ]
    },
    {
     "name": "stderr",
     "output_type": "stream",
     "text": [
      "100%|█████████████████████████████████████████████████████████████████| 6/6 [00:03<00:00,  1.66it/s]\n"
     ]
    },
    {
     "name": "stdout",
     "output_type": "stream",
     "text": [
      "calculating snrs...\n",
      "saving all lensed_params in ./ler_data/lensed_cbc_bbh.json \n"
     ]
    }
   ],
   "source": [
    "lensed_param = ler.lensed_cbc_statistics(size=1000000, resume=True, save_batch=False, output_jsonfile='lensed_cbc_bbh.json')"
   ]
  },
  {
   "cell_type": "code",
   "execution_count": 13,
   "metadata": {},
   "outputs": [
    {
     "name": "stdout",
     "output_type": "stream",
     "text": [
      "getting lensed_params from json file ./ler_data/lensed_cbc_bbh.json \n",
      "given detectability_condition == 'step_function'\n",
      "total lensed rate (yr^-1) (with step function): 0.5190467942625464\n",
      "number of simulated lensed detectable events: 8038\n",
      "number of simulated all lensed events: 1100000\n",
      "storing detectable lensed params in ./ler_data/lensed_param_detectable.json\n"
     ]
    }
   ],
   "source": [
    "_, lensed_param_detectable = ler.lensed_rate();"
   ]
  },
  {
   "cell_type": "code",
   "execution_count": 14,
   "metadata": {},
   "outputs": [
    {
     "name": "stdout",
     "output_type": "stream",
     "text": [
      "unlensed_rate: 836.0823259241994\n",
      "lensed_rate: 0.5190467942625464\n",
      "ratio: 1610.8033710372724\n"
     ]
    }
   ],
   "source": [
    "ler.rate_ratio();"
   ]
  },
  {
   "cell_type": "code",
   "execution_count": 25,
   "metadata": {},
   "outputs": [],
   "source": [
    "lensed_param_detectable = get_param_from_json('./ler_data/lensed_param_detectable.json')\n",
    "snr = lensed_param_detectable['optimal_snr_net']"
   ]
  },
  {
   "cell_type": "code",
   "execution_count": 39,
   "metadata": {},
   "outputs": [
    {
     "data": {
      "text/plain": [
       "8038"
      ]
     },
     "execution_count": 39,
     "metadata": {},
     "output_type": "execute_result"
    }
   ],
   "source": [
    "len(lensed_param_detectable['optimal_snr_net'])"
   ]
  },
  {
   "cell_type": "code",
   "execution_count": 31,
   "metadata": {},
   "outputs": [
    {
     "data": {
      "text/plain": [
       "array([[19.80471621, 18.60105514, 20.69181331, 15.89275877],\n",
       "       [ 7.71072958, 12.60012569, 13.7148824 , 11.88096558],\n",
       "       [27.9083384 , 21.09015775,  0.        ,  0.        ],\n",
       "       ...,\n",
       "       [ 4.61896283, 36.19772839, 35.98302468,  0.        ],\n",
       "       [ 9.78493604, 11.80316783,  6.53815329,  5.01105635],\n",
       "       [15.43833146,  8.0329634 ,  0.        ,  0.        ]])"
      ]
     },
     "execution_count": 31,
     "metadata": {},
     "output_type": "execute_result"
    }
   ],
   "source": [
    "lensed_param_detectable['optimal_snr_net']"
   ]
  },
  {
   "cell_type": "code",
   "execution_count": 41,
   "metadata": {},
   "outputs": [
    {
     "data": {
      "text/plain": [
       "array([ True, False, False, ..., False, False, False])"
      ]
     },
     "execution_count": 41,
     "metadata": {},
     "output_type": "execute_result"
    }
   ],
   "source": [
    "idx1 = abs(lensed_param_detectable['optimal_snr_net'])>8\n",
    "idx2 = np.sum(idx1, axis=1)==4\n",
    "idx2"
   ]
  },
  {
   "cell_type": "code",
   "execution_count": 38,
   "metadata": {},
   "outputs": [
    {
     "data": {
      "text/plain": [
       "762"
      ]
     },
     "execution_count": 38,
     "metadata": {},
     "output_type": "execute_result"
    }
   ],
   "source": [
    "np.sum(idx2)"
   ]
  },
  {
   "cell_type": "code",
   "execution_count": 44,
   "metadata": {},
   "outputs": [
    {
     "data": {
      "text/plain": [
       "9.479970141826325"
      ]
     },
     "execution_count": 44,
     "metadata": {},
     "output_type": "execute_result"
    }
   ],
   "source": [
    "np.sum(idx2)/len(idx2)*100 # percentage of detectable events"
   ]
  },
  {
   "cell_type": "markdown",
   "metadata": {},
   "source": [
    "## Velocity dispersion"
   ]
  },
  {
   "cell_type": "code",
   "execution_count": 46,
   "metadata": {},
   "outputs": [],
   "source": [
    "# get detectable + undetectable events\n",
    "lensed_param = get_param_from_json('./ler_data/lensed_cbc_bbh.json')\n",
    "# get detectable events\n",
    "lensed_param_detectable = get_param_from_json('./ler_data/lensed_param_detectable.json')"
   ]
  },
  {
   "cell_type": "code",
   "execution_count": null,
   "metadata": {},
   "outputs": [],
   "source": [
    "len"
   ]
  },
  {
   "cell_type": "code",
   "execution_count": 48,
   "metadata": {},
   "outputs": [],
   "source": [
    "sigma_sl = lensed_param['sigma']\n",
    "sigma_sl_detectable = lensed_param_detectable['sigma']\n",
    "sigma = ler.sample_velocity_dispersion(size=10000)"
   ]
  },
  {
   "cell_type": "code",
   "execution_count": 49,
   "metadata": {},
   "outputs": [
    {
     "data": {
      "image/png": "[encoded data removed]",
      "text/plain": [
       "<Figure size 800x600 with 1 Axes>"
      ]
     },
     "metadata": {},
     "output_type": "display_data"
    }
   ],
   "source": [
    "# plt hist\n",
    "plt.figure(figsize=(8, 6))\n",
    "plt.hist(sigma, bins=100, alpha=0.5, label='intrinsic', color='b', density=True, histtype='step')\n",
    "plt.hist(sigma_sl, bins=100, alpha=0.5, label='strongly lensed', color='r', density=True, histtype='step')\n",
    "plt.hist(sigma_sl_detectable, bins=100, alpha=0.5, label='detectable', color='g', density=True, histtype='step')\n",
    "plt.xlabel(r'$\\sigma$')\n",
    "plt.ylabel('pdf')\n",
    "plt.legend()\n",
    "plt.grid(alpha=0.5)\n",
    "plt.show()\n"
   ]
  },
  {
   "cell_type": "code",
   "execution_count": 50,
   "metadata": {},
   "outputs": [],
   "source": [
    "from ler.utils import append_json"
   ]
  },
  {
   "cell_type": "code",
   "execution_count": 53,
   "metadata": {},
   "outputs": [],
   "source": [
    "dict_ = {'sigma': sigma, 'sigma_sl': sigma_sl, 'sigma_sl_detectable': sigma_sl_detectable}\n",
    "\n"
   ]
  },
  {
   "cell_type": "code",
   "execution_count": 54,
   "metadata": {},
   "outputs": [
    {
     "data": {
      "text/plain": [
       "{'sigma': array([159.07112905, 119.15953389, 208.28868289, ..., 124.52035711,\n",
       "         99.06916462, 108.75275511]),\n",
       " 'sigma_sl': array([213.78698756, 204.42195337, 269.27770186, ..., 180.84078207,\n",
       "        266.43637834, 194.28008519]),\n",
       " 'sigma_sl_detectable': array([256.69849264, 343.47528783, 191.82468661, ..., 209.87593548,\n",
       "        287.9464501 , 194.16780163])}"
      ]
     },
     "execution_count": 54,
     "metadata": {},
     "output_type": "execute_result"
    }
   ],
   "source": [
    "append_json('./ler_data/sigma_data.json', dict_, replace=True)"
   ]
  },
  {
   "cell_type": "code",
   "execution_count": 2,
   "metadata": {},
   "outputs": [],
   "source": [
    "unlensed_param = get_param_from_json('./ler_data/unlensed_cbc_bbh.json')\n",
    "iota = unlensed_param['theta_jn']"
   ]
  },
  {
   "cell_type": "code",
   "execution_count": 4,
   "metadata": {},
   "outputs": [
    {
     "data": {
      "image/png": "[encoded data removed]",
      "text/plain": [
       "<Figure size 640x480 with 1 Axes>"
      ]
     },
     "metadata": {},
     "output_type": "display_data"
    }
   ],
   "source": [
    "plt.hist(iota, bins=100, density=True, histtype='step')\n",
    "plt.xlabel(r'$\\iota$')\n",
    "plt.ylabel('pdf')\n",
    "plt.grid(alpha=0.5)\n",
    "plt.show()"
   ]
  },
  {
   "cell_type": "code",
   "execution_count": null,
   "metadata": {},
   "outputs": [],
   "source": []
  },
  {
   "cell_type": "code",
   "execution_count": null,
   "metadata": {},
   "outputs": [],
   "source": []
  },
  {
   "cell_type": "markdown",
   "metadata": {},
   "source": [
    "## Comparison with different mass distributions"
   ]
  },
  {
   "cell_type": "code",
   "execution_count": 26,
   "metadata": {},
   "outputs": [],
   "source": [
    "from ler.rates import LeR\n",
    "from ler.utils import get_param_from_json\n",
    "import numpy as np\n",
    "import matplotlib.pyplot as plt"
   ]
  },
  {
   "cell_type": "code",
   "execution_count": 33,
   "metadata": {},
   "outputs": [
    {
     "name": "stderr",
     "output_type": "stream",
     "text": [
      "/Users/phurailatpamhemantakumar/anaconda3/envs/ler/lib/python3.10/site-packages/gwcosmo/prior/custom_math_priors.py:48: RuntimeWarning: overflow encountered in exp\n",
      "  effe_prime[select_window] = _np.exp(_np.nan_to_num((delta_m/mprime[select_window])+(delta_m/(mprime[select_window]-delta_m))))\n",
      "/Users/phurailatpamhemantakumar/anaconda3/envs/ler/lib/python3.10/site-packages/gwcosmo/prior/custom_math_priors.py:162: RuntimeWarning: divide by zero encountered in log\n",
      "  prob_ret =self.origin_prob.log_prob(x)+_np.log(window)\n",
      "/Users/phurailatpamhemantakumar/anaconda3/envs/ler/lib/python3.10/site-packages/gwcosmo/prior/custom_math_priors.py:160: RuntimeWarning: divide by zero encountered in log\n",
      "  prob_ret =self.origin_prob.log_prob(x)+_np.log(window)-_np.log(self.norm)\n"
     ]
    }
   ],
   "source": [
    "# initialize LeR\n",
    "ler1 = LeR(\n",
    "    npool=8,\n",
    "    verbose=False,\n",
    "    # GW related\n",
    "    source_priors= {\n",
    "        'source_frame_masses': 'binary_masses_BBH_popI_II_powerlaw_gaussian', \n",
    "        },      \n",
    "    source_priors_params= {\n",
    "        'source_frame_masses': {'mminbh': 4.59, 'mmaxbh': 86.22, 'alpha': 2.63, 'mu_g': 33.07, 'sigma_g': 5.69, 'lambda_peak': 0.10, 'delta_m': 4.82, 'beta': 1.26}, \n",
    "        },\n",
    ")"
   ]
  },
  {
   "cell_type": "code",
   "execution_count": 34,
   "metadata": {},
   "outputs": [
    {
     "name": "stderr",
     "output_type": "stream",
     "text": [
      "/Users/phurailatpamhemantakumar/anaconda3/envs/ler/lib/python3.10/site-packages/gwcosmo/prior/custom_math_priors.py:48: RuntimeWarning: overflow encountered in exp\n",
      "  effe_prime[select_window] = _np.exp(_np.nan_to_num((delta_m/mprime[select_window])+(delta_m/(mprime[select_window]-delta_m))))\n",
      "/Users/phurailatpamhemantakumar/anaconda3/envs/ler/lib/python3.10/site-packages/gwcosmo/prior/custom_math_priors.py:162: RuntimeWarning: divide by zero encountered in log\n",
      "  prob_ret =self.origin_prob.log_prob(x)+_np.log(window)\n",
      "/Users/phurailatpamhemantakumar/anaconda3/envs/ler/lib/python3.10/site-packages/gwcosmo/prior/custom_math_priors.py:160: RuntimeWarning: divide by zero encountered in log\n",
      "  prob_ret =self.origin_prob.log_prob(x)+_np.log(window)-_np.log(self.norm)\n"
     ]
    }
   ],
   "source": [
    "ler2 = LeR(\n",
    "    npool=8,\n",
    "    verbose=False,\n",
    ")"
   ]
  },
  {
   "cell_type": "code",
   "execution_count": 6,
   "metadata": {},
   "outputs": [],
   "source": [
    "m1_w, m2_w = ler1.sample_source_frame_masses(size=10000)\n",
    "m1_l, m2_l = ler2.sample_source_frame_masses(size=10000)"
   ]
  },
  {
   "cell_type": "code",
   "execution_count": 15,
   "metadata": {},
   "outputs": [
    {
     "data": {
      "image/png": "[encoded data removed]",
      "text/plain": [
       "<Figure size 400x400 with 1 Axes>"
      ]
     },
     "metadata": {},
     "output_type": "display_data"
    }
   ],
   "source": [
    "# plot\n",
    "plt.figure(figsize=(4, 4))\n",
    "plt.hist(m1_w, bins=100, alpha=0.5, label='GWTC-2', color='b', density=True, histtype='step')\n",
    "plt.hist(m1_l, bins=100, alpha=0.5, label='GWTC-3', color='r', density=True, histtype='step')\n",
    "plt.xlabel(r'$m_1$')\n",
    "plt.ylabel('pdf')\n",
    "plt.legend()\n",
    "plt.xlim(5, 60)\n",
    "plt.grid(alpha=0.4)\n",
    "plt.show()"
   ]
  },
  {
   "cell_type": "code",
   "execution_count": 38,
   "metadata": {},
   "outputs": [
    {
     "name": "stdout",
     "output_type": "stream",
     "text": [
      "unlensed params will be store in ./ler_data/unlensed_cbc_bbh_w.json\n",
      "chosen batch size = 200000 with total size = 400000\n",
      "There will be 2 batche(s)\n",
      "Batch no. 1\n",
      "sampling gw source params...\n",
      "calculating snrs...\n",
      "Batch no. 2\n",
      "sampling gw source params...\n",
      "calculating snrs...\n",
      "saving all unlensed_params in ./ler_data/unlensed_cbc_bbh_w.json \n"
     ]
    }
   ],
   "source": [
    "ler1.batch_size = 200000\n",
    "ler1.unlensed_cbc_statistics(size=400000, resume=False, save_batch=False, output_jsonfile='unlensed_cbc_bbh_w.json');"
   ]
  },
  {
   "cell_type": "code",
   "execution_count": 39,
   "metadata": {},
   "outputs": [
    {
     "name": "stdout",
     "output_type": "stream",
     "text": [
      "lensed params will be store in ./ler_data/lensed_cbc_bbh_w.json\n",
      "chosen batch size = 200000 with total size = 400000\n",
      "There will be 2 batche(s)\n",
      "Batch no. 1\n",
      "sampling lensed params...\n",
      "solving lens equations...\n"
     ]
    },
    {
     "name": "stderr",
     "output_type": "stream",
     "text": [
      "100%|█████████████████████████████████████████████████████| 200000/200000 [00:52<00:00, 3803.32it/s]\n"
     ]
    },
    {
     "name": "stdout",
     "output_type": "stream",
     "text": [
      "Invalid sample found. Resampling 4 lensed events...\n",
      "solving lens equations...\n"
     ]
    },
    {
     "name": "stderr",
     "output_type": "stream",
     "text": [
      "100%|█████████████████████████████████████████████████████████████████| 4/4 [00:03<00:00,  1.06it/s]\n"
     ]
    },
    {
     "name": "stdout",
     "output_type": "stream",
     "text": [
      "calculating snrs...\n",
      "Batch no. 2\n",
      "sampling lensed params...\n",
      "solving lens equations...\n"
     ]
    },
    {
     "name": "stderr",
     "output_type": "stream",
     "text": [
      "100%|█████████████████████████████████████████████████████| 200000/200000 [00:53<00:00, 3752.01it/s]\n"
     ]
    },
    {
     "name": "stdout",
     "output_type": "stream",
     "text": [
      "Invalid sample found. Resampling 4 lensed events...\n",
      "solving lens equations...\n"
     ]
    },
    {
     "name": "stderr",
     "output_type": "stream",
     "text": [
      "100%|█████████████████████████████████████████████████████████████████| 4/4 [00:03<00:00,  1.12it/s]\n"
     ]
    },
    {
     "name": "stdout",
     "output_type": "stream",
     "text": [
      "calculating snrs...\n",
      "saving all lensed_params in ./ler_data/lensed_cbc_bbh_w.json \n"
     ]
    }
   ],
   "source": [
    "ler1.lensed_cbc_statistics(size=400000, resume=False, save_batch=False, output_jsonfile='lensed_cbc_bbh_w.json');"
   ]
  },
  {
   "cell_type": "code",
   "execution_count": 40,
   "metadata": {},
   "outputs": [
    {
     "name": "stdout",
     "output_type": "stream",
     "text": [
      "getting unlensed_params from json file ./ler_data/unlensed_cbc_bbh_w.json...\n",
      "given detectability_condition == 'step_function'\n",
      "total unlensed rate (yr^-1) (with step function): 847.5937159534756\n",
      "number of simulated unlensed detectable events: 3275\n",
      "number of all simulated unlensed events: 400000\n",
      "storing detectable unlensed params in ./ler_data/unlensed_param_detectable.json\n",
      "getting lensed_params from json file ./ler_data/lensed_cbc_bbh_w.json \n",
      "given detectability_condition == 'step_function'\n",
      "total lensed rate (yr^-1) (with step function): 1.4480152910338109\n",
      "number of simulated lensed detectable events: 2552\n",
      "number of simulated all lensed events: 400000\n",
      "storing detectable lensed params in ./ler_data/lensed_param_detectable.json\n",
      "unlensed_rate (per year): 847.5937159534756\n",
      "lensed_rate (per year): 1.4480152910338109\n",
      "ratio: 585.3485948676245\n"
     ]
    }
   ],
   "source": [
    "ler1.rate_comparision_with_rate_calculation();"
   ]
  },
  {
   "cell_type": "code",
   "execution_count": 41,
   "metadata": {},
   "outputs": [
    {
     "name": "stdout",
     "output_type": "stream",
     "text": [
      "unlensed params will be store in ./ler_data/unlensed_cbc_bbh_l.json\n",
      "chosen batch size = 200000 with total size = 400000\n",
      "There will be 2 batche(s)\n",
      "Batch no. 1\n",
      "sampling gw source params...\n",
      "calculating snrs...\n",
      "Batch no. 2\n",
      "sampling gw source params...\n",
      "calculating snrs...\n",
      "saving all unlensed_params in ./ler_data/unlensed_cbc_bbh_l.json \n"
     ]
    }
   ],
   "source": [
    "ler2.batch_size = 200000\n",
    "ler2.unlensed_cbc_statistics(size=400000, resume=False, save_batch=False, output_jsonfile='unlensed_cbc_bbh_l.json');"
   ]
  },
  {
   "cell_type": "code",
   "execution_count": 42,
   "metadata": {},
   "outputs": [
    {
     "name": "stdout",
     "output_type": "stream",
     "text": [
      "lensed params will be store in ./ler_data/lensed_cbc_bbh_l.json\n",
      "chosen batch size = 200000 with total size = 400000\n",
      "There will be 2 batche(s)\n",
      "Batch no. 1\n",
      "sampling lensed params...\n",
      "solving lens equations...\n"
     ]
    },
    {
     "name": "stderr",
     "output_type": "stream",
     "text": [
      "100%|█████████████████████████████████████████████████████| 200000/200000 [00:51<00:00, 3852.12it/s]\n"
     ]
    },
    {
     "name": "stdout",
     "output_type": "stream",
     "text": [
      "Invalid sample found. Resampling 3 lensed events...\n",
      "solving lens equations...\n"
     ]
    },
    {
     "name": "stderr",
     "output_type": "stream",
     "text": [
      "100%|█████████████████████████████████████████████████████████████████| 3/3 [00:03<00:00,  1.14s/it]\n"
     ]
    },
    {
     "name": "stdout",
     "output_type": "stream",
     "text": [
      "calculating snrs...\n",
      "Batch no. 2\n",
      "sampling lensed params...\n",
      "solving lens equations...\n"
     ]
    },
    {
     "name": "stderr",
     "output_type": "stream",
     "text": [
      "100%|█████████████████████████████████████████████████████| 200000/200000 [00:49<00:00, 4020.18it/s]\n"
     ]
    },
    {
     "name": "stdout",
     "output_type": "stream",
     "text": [
      "Invalid sample found. Resampling 2 lensed events...\n",
      "solving lens equations...\n"
     ]
    },
    {
     "name": "stderr",
     "output_type": "stream",
     "text": [
      "100%|█████████████████████████████████████████████████████████████████| 2/2 [00:03<00:00,  1.66s/it]\n"
     ]
    },
    {
     "name": "stdout",
     "output_type": "stream",
     "text": [
      "calculating snrs...\n",
      "saving all lensed_params in ./ler_data/lensed_cbc_bbh_l.json \n"
     ]
    }
   ],
   "source": [
    "ler2.lensed_cbc_statistics(size=400000, resume=False, save_batch=False, output_jsonfile='lensed_cbc_bbh_l.json');"
   ]
  },
  {
   "cell_type": "code",
   "execution_count": 44,
   "metadata": {},
   "outputs": [
    {
     "name": "stdout",
     "output_type": "stream",
     "text": [
      "getting unlensed_params from json file ./ler_data/unlensed_cbc_bbh_l.json...\n",
      "given detectability_condition == 'step_function'\n",
      "total unlensed rate (yr^-1) (with step function): 441.2663467788323\n",
      "number of simulated unlensed detectable events: 1705\n",
      "number of all simulated unlensed events: 400000\n",
      "storing detectable unlensed params in ./ler_data/unlensed_param_detectable.json\n",
      "getting lensed_params from json file ./ler_data/lensed_cbc_bbh_l.json \n",
      "given detectability_condition == 'step_function'\n",
      "total lensed rate (yr^-1) (with step function): 1.0916855093844249\n",
      "number of simulated lensed detectable events: 1924\n",
      "number of simulated all lensed events: 400000\n",
      "storing detectable lensed params in ./ler_data/lensed_param_detectable.json\n",
      "unlensed_rate (per year): 441.2663467788323\n",
      "lensed_rate (per year): 1.0916855093844249\n",
      "ratio: 404.2064706232583\n"
     ]
    }
   ],
   "source": [
    "ler2.rate_comparision_with_rate_calculation();"
   ]
  },
  {
   "cell_type": "code",
   "execution_count": null,
   "metadata": {},
   "outputs": [],
   "source": []
  }
 ],
 "metadata": {
  "kernelspec": {
   "display_name": "ler",
   "language": "python",
   "name": "ler"
  },
  "language_info": {
   "codemirror_mode": {
    "name": "ipython",
    "version": 3
   },
   "file_extension": ".py",
   "mimetype": "text/x-python",
   "name": "python",
   "nbconvert_exporter": "python",
   "pygments_lexer": "ipython3",
   "version": "3.10.14"
  }
 },
 "nbformat": 4,
 "nbformat_minor": 2
}
